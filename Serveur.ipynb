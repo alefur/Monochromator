{
 "cells": [
  {
   "cell_type": "code",
   "execution_count": 1,
   "metadata": {},
   "outputs": [
    {
     "name": "stdout",
     "output_type": "stream",
     "text": [
      "Running on Linux\n"
     ]
    }
   ],
   "source": [
    "# coding: utf-8\n",
    "\n",
    "try:\n",
    "    from mono import Monochromator\n",
    "except OSError:\n",
    "    print ('Running on Linux')\n",
    "    class Monochromator:\n",
    "        def __init__(self, remote=False):\n",
    "            self.wave = 0\n",
    "        def status(self):\n",
    "            return 'im okay' \n",
    "        def getwave(self):\n",
    "            return str(self.wave)\n",
    "        def setwave(self, wave):\n",
    "            self.wave = wave\n",
    "            return self.getwave()\n",
    "    \n",
    "    "
   ]
  },
  {
   "cell_type": "code",
   "execution_count": 2,
   "metadata": {},
   "outputs": [],
   "source": [
    "host = 'localhost'\n",
    "port = 10000"
   ]
  },
  {
   "cell_type": "code",
   "execution_count": null,
   "metadata": {},
   "outputs": [],
   "source": [
    "import socket\n",
    "\n",
    "socket = socket.socket(socket.AF_INET, socket.SOCK_STREAM)\n",
    "socket.bind((host, port))\n",
    "\n",
    "while True:\n",
    "    socket.listen(5)\n",
    "    client, address = socket.accept()\n",
    "    print(\"{} connected\".format(address))\n",
    "\n",
    "    mono = Monochromator(remote=True)\n",
    "\n",
    "    while True:\n",
    "        command = client.recv(255)\n",
    "        if not command:\n",
    "            break\n",
    "\n",
    "        cmdStr = command.decode()\n",
    "\n",
    "        try:\n",
    "            cmdStr = cmdStr.split('\\r\\n')[0]\n",
    "            funcname = cmdStr.split(',')[0]\n",
    "            args = cmdStr.split(',')[1:]\n",
    "            func = getattr(mono, funcname)\n",
    "            ret = func(*args)\n",
    "            msg = '0,%s' % ret\n",
    "\n",
    "        except Exception as e:\n",
    "            msg = '1,%s' % str(e)\n",
    "\n",
    "        client.send(('%s\\r\\n' % msg).encode('utf-8'))\n",
    "\n",
    "    client.close()\n",
    "\n",
    "\n",
    "socket.close()\n",
    "print ('server is off')"
   ]
  }
 ],
 "metadata": {
  "kernelspec": {
   "display_name": "Python 3",
   "language": "python",
   "name": "python3"
  },
  "language_info": {
   "codemirror_mode": {
    "name": "ipython",
    "version": 3
   },
   "file_extension": ".py",
   "mimetype": "text/x-python",
   "name": "python",
   "nbconvert_exporter": "python",
   "pygments_lexer": "ipython3",
   "version": "3.6.4"
  }
 },
 "nbformat": 4,
 "nbformat_minor": 2
}
